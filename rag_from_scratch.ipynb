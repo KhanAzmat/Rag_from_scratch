{
 "cells": [
  {
   "cell_type": "markdown",
   "metadata": {},
   "source": [
    "### This notebook builds a RAG system from scratch using python and FAISS vector store. I use sample pdf as the document to vectorise and retreive from."
   ]
  },
  {
   "cell_type": "markdown",
   "metadata": {},
   "source": [
    "- Steps to follow : \n",
    "    1. Open a document \n",
    "    2. format the text for the embedding model\n",
    "    3. embed all the chunks which can be stored for later\n",
    "    4. build a retrieval system that searches the vector store and returns the similar embeddings to teh query\n",
    "    5. create a prompt that incorporates the returned embeddings\n",
    "    6. generate an answer to the query based on the passages from the text."
   ]
  },
  {
   "cell_type": "markdown",
   "metadata": {},
   "source": [
    "- Steps 1-3 : Document preprocessing and embedding creation\n",
    "- Steps 4-6 : Search and Answer"
   ]
  },
  {
   "cell_type": "markdown",
   "metadata": {},
   "source": [
    "## 1. Document pre-processing and embedding creation\n",
    "\n",
    "Ingredients : \n",
    "- Data documents of any choice\n",
    "- embedding model of choice"
   ]
  },
  {
   "cell_type": "code",
   "execution_count": 1,
   "metadata": {},
   "outputs": [],
   "source": [
    "import os \n",
    "import requests\n",
    "\n",
    "pdf_path = './Rag-From-Scratch/simple-local-rag/human-nutrition-text.pdf'\n",
    "\n",
    "\n",
    "if not os.path.exists(pdf_path):\n",
    "    print('File does not exist.')\n"
   ]
  },
  {
   "cell_type": "code",
   "execution_count": 6,
   "metadata": {},
   "outputs": [],
   "source": [
    "import fitz \n",
    "from tqdm.auto import tqdm\n",
    "\n",
    "def text_formatter(strng):\n",
    "    cleaned_text = strng.replace('\\n', ' ').strip()\n",
    "    return cleaned_text\n",
    "\n",
    "def open_and_read(pdf_path):\n",
    "    doc = fitz.open(pdf_path)\n",
    "    pages_and_texts = []\n",
    "    for page_number, page in tqdm(enumerate(doc)):\n",
    "        text = page.get_text()\n",
    "        text = text_formatter(text)\n",
    "        pages_and_texts.append({\n",
    "            'page_number' : page_number - 41,\n",
    "            'page_char_count' : len(text),\n",
    "            'page_word_count' : len(text.split(' ')) if len(text) > 0 else 0,\n",
    "            'page_sentence_count' : len(text.split('. ')) if len(text) > 0 else 0,\n",
    "            'page_token_count' : len(text)/4, \n",
    "            'text' : text\n",
    "        })\n",
    "    return pages_and_texts"
   ]
  },
  {
   "cell_type": "code",
   "execution_count": 7,
   "metadata": {},
   "outputs": [
    {
     "data": {
      "application/vnd.jupyter.widget-view+json": {
       "model_id": "534120853d0644db959e8da724cf9925",
       "version_major": 2,
       "version_minor": 0
      },
      "text/plain": [
       "0it [00:00, ?it/s]"
      ]
     },
     "metadata": {},
     "output_type": "display_data"
    },
    {
     "data": {
      "text/plain": [
       "[{'page_number': -41,\n",
       "  'page_char_count': 29,\n",
       "  'page_word_count': 4,\n",
       "  'page_sentence_count': 1,\n",
       "  'page_token_count': 7.25,\n",
       "  'text': 'Human Nutrition: 2020 Edition'},\n",
       " {'page_number': -40,\n",
       "  'page_char_count': 0,\n",
       "  'page_word_count': 0,\n",
       "  'page_sentence_count': 0,\n",
       "  'page_token_count': 0.0,\n",
       "  'text': ''}]"
      ]
     },
     "execution_count": 7,
     "metadata": {},
     "output_type": "execute_result"
    }
   ],
   "source": [
    "pages_and_text = open_and_read(pdf_path)\n",
    "len(pages_and_text)\n",
    "pages_and_text[:2]"
   ]
  },
  {
   "cell_type": "code",
   "execution_count": 8,
   "metadata": {},
   "outputs": [
    {
     "data": {
      "text/html": [
       "<div>\n",
       "<style scoped>\n",
       "    .dataframe tbody tr th:only-of-type {\n",
       "        vertical-align: middle;\n",
       "    }\n",
       "\n",
       "    .dataframe tbody tr th {\n",
       "        vertical-align: top;\n",
       "    }\n",
       "\n",
       "    .dataframe thead th {\n",
       "        text-align: right;\n",
       "    }\n",
       "</style>\n",
       "<table border=\"1\" class=\"dataframe\">\n",
       "  <thead>\n",
       "    <tr style=\"text-align: right;\">\n",
       "      <th></th>\n",
       "      <th>page_number</th>\n",
       "      <th>page_char_count</th>\n",
       "      <th>page_word_count</th>\n",
       "      <th>page_sentence_count</th>\n",
       "      <th>page_token_count</th>\n",
       "      <th>text</th>\n",
       "    </tr>\n",
       "  </thead>\n",
       "  <tbody>\n",
       "    <tr>\n",
       "      <th>0</th>\n",
       "      <td>-41</td>\n",
       "      <td>29</td>\n",
       "      <td>4</td>\n",
       "      <td>1</td>\n",
       "      <td>7.25</td>\n",
       "      <td>Human Nutrition: 2020 Edition</td>\n",
       "    </tr>\n",
       "    <tr>\n",
       "      <th>1</th>\n",
       "      <td>-40</td>\n",
       "      <td>0</td>\n",
       "      <td>0</td>\n",
       "      <td>0</td>\n",
       "      <td>0.00</td>\n",
       "      <td></td>\n",
       "    </tr>\n",
       "    <tr>\n",
       "      <th>2</th>\n",
       "      <td>-39</td>\n",
       "      <td>320</td>\n",
       "      <td>54</td>\n",
       "      <td>1</td>\n",
       "      <td>80.00</td>\n",
       "      <td>Human Nutrition: 2020  Edition  UNIVERSITY OF ...</td>\n",
       "    </tr>\n",
       "    <tr>\n",
       "      <th>3</th>\n",
       "      <td>-38</td>\n",
       "      <td>212</td>\n",
       "      <td>32</td>\n",
       "      <td>1</td>\n",
       "      <td>53.00</td>\n",
       "      <td>Human Nutrition: 2020 Edition by University of...</td>\n",
       "    </tr>\n",
       "    <tr>\n",
       "      <th>4</th>\n",
       "      <td>-37</td>\n",
       "      <td>797</td>\n",
       "      <td>147</td>\n",
       "      <td>3</td>\n",
       "      <td>199.25</td>\n",
       "      <td>Contents  Preface  University of Hawai‘i at Mā...</td>\n",
       "    </tr>\n",
       "  </tbody>\n",
       "</table>\n",
       "</div>"
      ],
      "text/plain": [
       "   page_number  page_char_count  page_word_count  page_sentence_count  \\\n",
       "0          -41               29                4                    1   \n",
       "1          -40                0                0                    0   \n",
       "2          -39              320               54                    1   \n",
       "3          -38              212               32                    1   \n",
       "4          -37              797              147                    3   \n",
       "\n",
       "   page_token_count                                               text  \n",
       "0              7.25                      Human Nutrition: 2020 Edition  \n",
       "1              0.00                                                     \n",
       "2             80.00  Human Nutrition: 2020  Edition  UNIVERSITY OF ...  \n",
       "3             53.00  Human Nutrition: 2020 Edition by University of...  \n",
       "4            199.25  Contents  Preface  University of Hawai‘i at Mā...  "
      ]
     },
     "execution_count": 8,
     "metadata": {},
     "output_type": "execute_result"
    }
   ],
   "source": [
    "import pandas as pd\n",
    "\n",
    "df = pd.DataFrame(pages_and_text)\n",
    "df.head()"
   ]
  },
  {
   "cell_type": "markdown",
   "metadata": {},
   "source": [
    "## Why care about the token count ?\n",
    "\n",
    "Token count is important because of the context window of the embedding model and the context window of the LLMs. By context window I mean, the maximum length of the input text provided to the embbedding model or the LLM."
   ]
  },
  {
   "cell_type": "code",
   "execution_count": 9,
   "metadata": {},
   "outputs": [
    {
     "data": {
      "text/plain": [
       "[This a sentence., This is another sentence., This is the third sentence.]"
      ]
     },
     "execution_count": 9,
     "metadata": {},
     "output_type": "execute_result"
    }
   ],
   "source": [
    "from spacy.lang.en import English\n",
    "\n",
    "nlp = English()\n",
    "\n",
    "# Add a sentencizer pipeline\n",
    "nlp.add_pipe('sentencizer')\n",
    "\n",
    "# create a document instance as an example.\n",
    "doc = nlp('This a sentence. This is another sentence. This is the third sentence.')\n",
    "\n",
    "assert len(list(doc.sents)) == 3\n",
    "\n",
    "# print sentences split\n",
    "list(doc.sents)\n"
   ]
  },
  {
   "cell_type": "code",
   "execution_count": 10,
   "metadata": {},
   "outputs": [
    {
     "data": {
      "text/plain": [
       "{'page_number': 559,\n",
       " 'page_char_count': 863,\n",
       " 'page_word_count': 138,\n",
       " 'page_sentence_count': 9,\n",
       " 'page_token_count': 215.75,\n",
       " 'text': 'Image by  Allison  Calabrese /  CC BY 4.0  Korsakoff syndrome can cause similar symptoms as beriberi such  as confusion, loss of coordination, vision changes, hallucinations,  and may progress to coma and death. This condition is specific  to alcoholics as diets high in alcohol can cause thiamin deficiency.  Other individuals at risk include individuals who also consume diets  typically low in micronutrients such as those with eating disorders,  elderly, and individuals who have gone through gastric bypass  surgery.5  Figure 9.10 The Role of Thiamin  Figure 9.11 Beriberi, Thiamin Deficiency  5. Fact Sheets for Health Professionals: Thiamin. National  Institute of Health, Office of Dietary Supplements.   https://ods.od.nih.gov/factsheets/Thiamin- HealthProfessional/. Updated Feburary 11, 2016.  Accessed October 22, 2017.  Water-Soluble Vitamins  |  559'}"
      ]
     },
     "execution_count": 10,
     "metadata": {},
     "output_type": "execute_result"
    }
   ],
   "source": [
    "# Our pdf dictionary\n",
    "pages_and_text[600]"
   ]
  },
  {
   "cell_type": "code",
   "execution_count": 11,
   "metadata": {},
   "outputs": [
    {
     "data": {
      "application/vnd.jupyter.widget-view+json": {
       "model_id": "7df941de1ab24296bf907a4d7c1c214c",
       "version_major": 2,
       "version_minor": 0
      },
      "text/plain": [
       "  0%|          | 0/1208 [00:00<?, ?it/s]"
      ]
     },
     "metadata": {},
     "output_type": "display_data"
    }
   ],
   "source": [
    "for item in tqdm(pages_and_text):\n",
    "    item['sentences'] = list(nlp(item['text']).sents)\n",
    "\n",
    "    # make sure all sentences are string. Default is a spacy datatype.\n",
    "    item['sentences'] = [str(strng) for strng in item['sentences']]\n",
    "\n",
    "    item['sentences_per_page'] = len(item['sentences'])"
   ]
  },
  {
   "cell_type": "code",
   "execution_count": 13,
   "metadata": {},
   "outputs": [
    {
     "data": {
      "text/plain": [
       "[{'page_number': 733,\n",
       "  'page_char_count': 1581,\n",
       "  'page_word_count': 255,\n",
       "  'page_sentence_count': 16,\n",
       "  'page_token_count': 395.25,\n",
       "  'text': 'AMS, USDA. https://www.ams.usda.gov/about-ams/programs- offices/national-organic-program.  Food Labeling Guide. US Food and Drug Administration. http://www.fda.gov. Updated February 10, 2012. Accessed  November 28, 2017.  Health Claims  Often we hear news of a particular nutrient or food product that  contributes to our health or may prevent disease. A health claim  is a statement that links a particular food with a reduced risk of  developing disease.  Implied health claims include the use of  symbols, statements and other forms of communication that  suggest a relationship between a food  substance and disease  reduction. As such, health claims such as “Three grams of soluble  fiber from oatmeal daily in combination with a diet low in  cholesterol and saturated fat may reduce the risk of heart disease,”  must be evaluated by the FDA before it may appear on packaging.  Prior to the passage of the NLEA products that made such claims  were categorized as drugs and not food. All health claims must be  substantiated by scientific evidence in order for it to be approved  and put on a food label. To avoid having companies making false  claims, laws also regulate how health claims are presented on food  packaging. In addition to the claim being backed up by scientific  evidence, it may never claim to diagnose, mitigate, cure or treat  the disease. For a detailed list of approved health claims, visit:  https://www.fda.gov/food/food-labeling-nutrition/authorized- health-claims-meet-significant-scientific-agreement-ssa-standard  Discovering Nutrition Facts  |  733',\n",
       "  'sentences': ['AMS, USDA.',\n",
       "   'https://www.ams.usda.gov/about-ams/programs- offices/national-organic-program.',\n",
       "   ' Food Labeling Guide.',\n",
       "   'US Food and Drug Administration.',\n",
       "   'http://www.fda.gov.',\n",
       "   'Updated February 10, 2012.',\n",
       "   'Accessed  November 28, 2017.',\n",
       "   ' Health Claims  Often we hear news of a particular nutrient or food product that  contributes to our health or may prevent disease.',\n",
       "   'A health claim  is a statement that links a particular food with a reduced risk of  developing disease.',\n",
       "   ' Implied health claims include the use of  symbols, statements and other forms of communication that  suggest a relationship between a food  substance and disease  reduction.',\n",
       "   'As such, health claims such as “Three grams of soluble  fiber from oatmeal daily in combination with a diet low in  cholesterol and saturated fat may reduce the risk of heart disease,”  must be evaluated by the FDA before it may appear on packaging.',\n",
       "   ' Prior to the passage of the NLEA products that made such claims  were categorized as drugs and not food.',\n",
       "   'All health claims must be  substantiated by scientific evidence in order for it to be approved  and put on a food label.',\n",
       "   'To avoid having companies making false  claims, laws also regulate how health claims are presented on food  packaging.',\n",
       "   'In addition to the claim being backed up by scientific  evidence, it may never claim to diagnose, mitigate, cure or treat  the disease.',\n",
       "   'For a detailed list of approved health claims, visit:  https://www.fda.gov/food/food-labeling-nutrition/authorized- health-claims-meet-significant-scientific-agreement-ssa-standard  Discovering Nutrition Facts  |  733'],\n",
       "  'sentences_per_page': 16}]"
      ]
     },
     "execution_count": 13,
     "metadata": {},
     "output_type": "execute_result"
    }
   ],
   "source": [
    "import random\n",
    "\n",
    "random.sample(pages_and_text, k=1)"
   ]
  },
  {
   "cell_type": "code",
   "execution_count": 15,
   "metadata": {},
   "outputs": [
    {
     "data": {
      "text/html": [
       "<div>\n",
       "<style scoped>\n",
       "    .dataframe tbody tr th:only-of-type {\n",
       "        vertical-align: middle;\n",
       "    }\n",
       "\n",
       "    .dataframe tbody tr th {\n",
       "        vertical-align: top;\n",
       "    }\n",
       "\n",
       "    .dataframe thead th {\n",
       "        text-align: right;\n",
       "    }\n",
       "</style>\n",
       "<table border=\"1\" class=\"dataframe\">\n",
       "  <thead>\n",
       "    <tr style=\"text-align: right;\">\n",
       "      <th></th>\n",
       "      <th>page_number</th>\n",
       "      <th>page_char_count</th>\n",
       "      <th>page_word_count</th>\n",
       "      <th>page_sentence_count</th>\n",
       "      <th>page_token_count</th>\n",
       "      <th>sentences_per_page</th>\n",
       "    </tr>\n",
       "  </thead>\n",
       "  <tbody>\n",
       "    <tr>\n",
       "      <th>count</th>\n",
       "      <td>1208.00</td>\n",
       "      <td>1208.00</td>\n",
       "      <td>1208.00</td>\n",
       "      <td>1208.00</td>\n",
       "      <td>1208.00</td>\n",
       "      <td>1208.00</td>\n",
       "    </tr>\n",
       "    <tr>\n",
       "      <th>mean</th>\n",
       "      <td>562.50</td>\n",
       "      <td>1148.00</td>\n",
       "      <td>199.48</td>\n",
       "      <td>10.50</td>\n",
       "      <td>287.00</td>\n",
       "      <td>10.32</td>\n",
       "    </tr>\n",
       "    <tr>\n",
       "      <th>std</th>\n",
       "      <td>348.86</td>\n",
       "      <td>560.38</td>\n",
       "      <td>95.88</td>\n",
       "      <td>6.59</td>\n",
       "      <td>140.10</td>\n",
       "      <td>6.30</td>\n",
       "    </tr>\n",
       "    <tr>\n",
       "      <th>min</th>\n",
       "      <td>-41.00</td>\n",
       "      <td>0.00</td>\n",
       "      <td>0.00</td>\n",
       "      <td>0.00</td>\n",
       "      <td>0.00</td>\n",
       "      <td>0.00</td>\n",
       "    </tr>\n",
       "    <tr>\n",
       "      <th>25%</th>\n",
       "      <td>260.75</td>\n",
       "      <td>762.00</td>\n",
       "      <td>134.00</td>\n",
       "      <td>5.00</td>\n",
       "      <td>190.50</td>\n",
       "      <td>5.00</td>\n",
       "    </tr>\n",
       "    <tr>\n",
       "      <th>50%</th>\n",
       "      <td>562.50</td>\n",
       "      <td>1231.50</td>\n",
       "      <td>216.00</td>\n",
       "      <td>10.00</td>\n",
       "      <td>307.88</td>\n",
       "      <td>10.00</td>\n",
       "    </tr>\n",
       "    <tr>\n",
       "      <th>75%</th>\n",
       "      <td>864.25</td>\n",
       "      <td>1603.50</td>\n",
       "      <td>272.00</td>\n",
       "      <td>15.00</td>\n",
       "      <td>400.88</td>\n",
       "      <td>15.00</td>\n",
       "    </tr>\n",
       "    <tr>\n",
       "      <th>max</th>\n",
       "      <td>1166.00</td>\n",
       "      <td>2308.00</td>\n",
       "      <td>430.00</td>\n",
       "      <td>39.00</td>\n",
       "      <td>577.00</td>\n",
       "      <td>28.00</td>\n",
       "    </tr>\n",
       "  </tbody>\n",
       "</table>\n",
       "</div>"
      ],
      "text/plain": [
       "       page_number  page_char_count  page_word_count  page_sentence_count  \\\n",
       "count      1208.00          1208.00          1208.00              1208.00   \n",
       "mean        562.50          1148.00           199.48                10.50   \n",
       "std         348.86           560.38            95.88                 6.59   \n",
       "min         -41.00             0.00             0.00                 0.00   \n",
       "25%         260.75           762.00           134.00                 5.00   \n",
       "50%         562.50          1231.50           216.00                10.00   \n",
       "75%         864.25          1603.50           272.00                15.00   \n",
       "max        1166.00          2308.00           430.00                39.00   \n",
       "\n",
       "       page_token_count  sentences_per_page  \n",
       "count           1208.00             1208.00  \n",
       "mean             287.00               10.32  \n",
       "std              140.10                6.30  \n",
       "min                0.00                0.00  \n",
       "25%              190.50                5.00  \n",
       "50%              307.88               10.00  \n",
       "75%              400.88               15.00  \n",
       "max              577.00               28.00  "
      ]
     },
     "execution_count": 15,
     "metadata": {},
     "output_type": "execute_result"
    }
   ],
   "source": [
    "# update dataframe\n",
    "df = pd.DataFrame(pages_and_text)\n",
    "df.describe().round(2)"
   ]
  },
  {
   "cell_type": "markdown",
   "metadata": {},
   "source": [
    "## Chunking approach\n",
    "\n",
    "- The concept of splitting larger pieces of text into smaller text of suitable sizes or chunking is done to provide appropriate sized inputs to the embedding model and LLM. \n",
    "- There is no, one correct way to chunk. It depends on the your use case. Some of the approaches to chunking are fixed size chunking, token and word based chunking, recursive token and word based chunking, semantic chunking, etc. \n",
    "- We will use fixed sized chunking here, and go with 10 sentences in a chunk.\n",
    "- Each page will be subdivided into chunks of 10 sentences or smaller."
   ]
  },
  {
   "cell_type": "code",
   "execution_count": null,
   "metadata": {},
   "outputs": [
    {
     "data": {
      "text/plain": [
       "[[0, 1, 2, 3, 4, 5, 6, 7, 8, 9],\n",
       " [10, 11, 12, 13, 14, 15, 16, 17, 18, 19],\n",
       " [20, 21, 22, 23, 24]]"
      ]
     },
     "execution_count": 16,
     "metadata": {},
     "output_type": "execute_result"
    }
   ],
   "source": [
    "# Define split size to turn groups of sentences into chunks\n",
    "num_sentence_chunk_size = 10\n",
    "\n",
    "# create a function to split lists of sentences into chunk size, recursively\n",
    "def split_list(input_list):\n",
    "    slice_size = num_sentence_chunk_size\n",
    "    return [input_list[i:i+slice_size] for i in range(0, len(input_list), slice_size)]\n",
    "\n",
    "# test_list = list(range(25))\n",
    "# split_list(test_list)"
   ]
  },
  {
   "cell_type": "code",
   "execution_count": 17,
   "metadata": {},
   "outputs": [
    {
     "data": {
      "application/vnd.jupyter.widget-view+json": {
       "model_id": "5c34792cbaf845378f6f37f22fcf215c",
       "version_major": 2,
       "version_minor": 0
      },
      "text/plain": [
       "  0%|          | 0/1208 [00:00<?, ?it/s]"
      ]
     },
     "metadata": {},
     "output_type": "display_data"
    }
   ],
   "source": [
    "# Loop through pages and split text into chunks\n",
    "\n",
    "for item in tqdm(pages_and_text):\n",
    "    item['sentence_chunks'] = split_list(item['sentences'])\n",
    "    item['num_chunks'] = len(item['sentence_chunks'])"
   ]
  },
  {
   "cell_type": "code",
   "execution_count": 19,
   "metadata": {},
   "outputs": [
    {
     "data": {
      "text/plain": [
       "[{'page_number': 383,\n",
       "  'page_char_count': 434,\n",
       "  'page_word_count': 90,\n",
       "  'page_sentence_count': 3,\n",
       "  'page_token_count': 108.5,\n",
       "  'text': 'Proteins are  the  “workhorses”  of the body  and  participate  in many  bodily  functions.  Proteins  come in all  sizes and  shapes and  each is  specifically  structured  for its  particular  function.  Protein’s Functions in the  Body  UNIVERSITY OF HAWAI‘I AT MĀNOA FOOD SCIENCE AND HUMAN  NUTRITION PROGRAM AND HUMAN NUTRITION PROGRAM  Structure and Motion  Figure 6.9 Collagen Structure  Protein’s Functions in the Body  |  383',\n",
       "  'sentences': ['Proteins are  the  “workhorses”  of the body  and  participate  in many  bodily  functions.',\n",
       "   ' Proteins  come in all  sizes and  shapes and  each is  specifically  structured  for its  particular  function.',\n",
       "   ' Protein’s Functions in the  Body  UNIVERSITY OF HAWAI‘I AT MĀNOA FOOD SCIENCE AND HUMAN  NUTRITION PROGRAM AND HUMAN NUTRITION PROGRAM  Structure and Motion  Figure 6.9 Collagen Structure  Protein’s Functions in the Body  |  383'],\n",
       "  'sentences_per_page': 3,\n",
       "  'sentence_chunks': [['Proteins are  the  “workhorses”  of the body  and  participate  in many  bodily  functions.',\n",
       "    ' Proteins  come in all  sizes and  shapes and  each is  specifically  structured  for its  particular  function.',\n",
       "    ' Protein’s Functions in the  Body  UNIVERSITY OF HAWAI‘I AT MĀNOA FOOD SCIENCE AND HUMAN  NUTRITION PROGRAM AND HUMAN NUTRITION PROGRAM  Structure and Motion  Figure 6.9 Collagen Structure  Protein’s Functions in the Body  |  383']],\n",
       "  'num_chunks': 1}]"
      ]
     },
     "execution_count": 19,
     "metadata": {},
     "output_type": "execute_result"
    }
   ],
   "source": [
    "random.sample(pages_and_text, k =1)"
   ]
  },
  {
   "cell_type": "code",
   "execution_count": 20,
   "metadata": {},
   "outputs": [
    {
     "data": {
      "text/html": [
       "<div>\n",
       "<style scoped>\n",
       "    .dataframe tbody tr th:only-of-type {\n",
       "        vertical-align: middle;\n",
       "    }\n",
       "\n",
       "    .dataframe tbody tr th {\n",
       "        vertical-align: top;\n",
       "    }\n",
       "\n",
       "    .dataframe thead th {\n",
       "        text-align: right;\n",
       "    }\n",
       "</style>\n",
       "<table border=\"1\" class=\"dataframe\">\n",
       "  <thead>\n",
       "    <tr style=\"text-align: right;\">\n",
       "      <th></th>\n",
       "      <th>page_number</th>\n",
       "      <th>page_char_count</th>\n",
       "      <th>page_word_count</th>\n",
       "      <th>page_sentence_count</th>\n",
       "      <th>page_token_count</th>\n",
       "      <th>sentences_per_page</th>\n",
       "      <th>num_chunks</th>\n",
       "    </tr>\n",
       "  </thead>\n",
       "  <tbody>\n",
       "    <tr>\n",
       "      <th>count</th>\n",
       "      <td>1208.00</td>\n",
       "      <td>1208.00</td>\n",
       "      <td>1208.00</td>\n",
       "      <td>1208.00</td>\n",
       "      <td>1208.00</td>\n",
       "      <td>1208.00</td>\n",
       "      <td>1208.00</td>\n",
       "    </tr>\n",
       "    <tr>\n",
       "      <th>mean</th>\n",
       "      <td>562.50</td>\n",
       "      <td>1148.00</td>\n",
       "      <td>199.48</td>\n",
       "      <td>10.50</td>\n",
       "      <td>287.00</td>\n",
       "      <td>10.32</td>\n",
       "      <td>1.53</td>\n",
       "    </tr>\n",
       "    <tr>\n",
       "      <th>std</th>\n",
       "      <td>348.86</td>\n",
       "      <td>560.38</td>\n",
       "      <td>95.88</td>\n",
       "      <td>6.59</td>\n",
       "      <td>140.10</td>\n",
       "      <td>6.30</td>\n",
       "      <td>0.64</td>\n",
       "    </tr>\n",
       "    <tr>\n",
       "      <th>min</th>\n",
       "      <td>-41.00</td>\n",
       "      <td>0.00</td>\n",
       "      <td>0.00</td>\n",
       "      <td>0.00</td>\n",
       "      <td>0.00</td>\n",
       "      <td>0.00</td>\n",
       "      <td>0.00</td>\n",
       "    </tr>\n",
       "    <tr>\n",
       "      <th>25%</th>\n",
       "      <td>260.75</td>\n",
       "      <td>762.00</td>\n",
       "      <td>134.00</td>\n",
       "      <td>5.00</td>\n",
       "      <td>190.50</td>\n",
       "      <td>5.00</td>\n",
       "      <td>1.00</td>\n",
       "    </tr>\n",
       "    <tr>\n",
       "      <th>50%</th>\n",
       "      <td>562.50</td>\n",
       "      <td>1231.50</td>\n",
       "      <td>216.00</td>\n",
       "      <td>10.00</td>\n",
       "      <td>307.88</td>\n",
       "      <td>10.00</td>\n",
       "      <td>1.00</td>\n",
       "    </tr>\n",
       "    <tr>\n",
       "      <th>75%</th>\n",
       "      <td>864.25</td>\n",
       "      <td>1603.50</td>\n",
       "      <td>272.00</td>\n",
       "      <td>15.00</td>\n",
       "      <td>400.88</td>\n",
       "      <td>15.00</td>\n",
       "      <td>2.00</td>\n",
       "    </tr>\n",
       "    <tr>\n",
       "      <th>max</th>\n",
       "      <td>1166.00</td>\n",
       "      <td>2308.00</td>\n",
       "      <td>430.00</td>\n",
       "      <td>39.00</td>\n",
       "      <td>577.00</td>\n",
       "      <td>28.00</td>\n",
       "      <td>3.00</td>\n",
       "    </tr>\n",
       "  </tbody>\n",
       "</table>\n",
       "</div>"
      ],
      "text/plain": [
       "       page_number  page_char_count  page_word_count  page_sentence_count  \\\n",
       "count      1208.00          1208.00          1208.00              1208.00   \n",
       "mean        562.50          1148.00           199.48                10.50   \n",
       "std         348.86           560.38            95.88                 6.59   \n",
       "min         -41.00             0.00             0.00                 0.00   \n",
       "25%         260.75           762.00           134.00                 5.00   \n",
       "50%         562.50          1231.50           216.00                10.00   \n",
       "75%         864.25          1603.50           272.00                15.00   \n",
       "max        1166.00          2308.00           430.00                39.00   \n",
       "\n",
       "       page_token_count  sentences_per_page  num_chunks  \n",
       "count           1208.00             1208.00     1208.00  \n",
       "mean             287.00               10.32        1.53  \n",
       "std              140.10                6.30        0.64  \n",
       "min                0.00                0.00        0.00  \n",
       "25%              190.50                5.00        1.00  \n",
       "50%              307.88               10.00        1.00  \n",
       "75%              400.88               15.00        2.00  \n",
       "max              577.00               28.00        3.00  "
      ]
     },
     "execution_count": 20,
     "metadata": {},
     "output_type": "execute_result"
    }
   ],
   "source": [
    "df = pd.DataFrame(pages_and_text)\n",
    "df.describe().round(2)"
   ]
  },
  {
   "cell_type": "markdown",
   "metadata": {},
   "source": [
    "### Splitting each chunk into its own item in the document dictionary. This gives a greater level of granularity."
   ]
  },
  {
   "cell_type": "code",
   "execution_count": 29,
   "metadata": {},
   "outputs": [
    {
     "data": {
      "application/vnd.jupyter.widget-view+json": {
       "model_id": "8650e66e73c94e2e9ce6b48563638350",
       "version_major": 2,
       "version_minor": 0
      },
      "text/plain": [
       "  0%|          | 0/1208 [00:00<?, ?it/s]"
      ]
     },
     "metadata": {},
     "output_type": "display_data"
    },
    {
     "data": {
      "text/plain": [
       "1843"
      ]
     },
     "execution_count": 29,
     "metadata": {},
     "output_type": "execute_result"
    }
   ],
   "source": [
    "import re\n",
    "\n",
    "# Split each chunk into its own item\n",
    "pages_and_chunks = []\n",
    "for item in tqdm(pages_and_text):\n",
    "    for sentence_chunk in item['sentence_chunks']:\n",
    "        chunk_dict = {}\n",
    "        chunk_dict['page_number'] = item['page_number']\n",
    "        joined_sentence_chunk = ''.join(sentence_chunk).replace('  ', ' ').strip()\n",
    "        joined_sentence_chunk = re.sub(r'\\.([A-Z])', r'. \\1', joined_sentence_chunk)\n",
    "\n",
    "        chunk_dict['sentence_chunk'] = joined_sentence_chunk\n",
    "        chunk_dict['chunk_char_count'] = len(joined_sentence_chunk)\n",
    "        chunk_dict['chunk_word_count'] = len(joined_sentence_chunk.split(' '))\n",
    "        chunk_dict['chunk_token_count'] = len(joined_sentence_chunk)/4\n",
    "\n",
    "        pages_and_chunks.append(chunk_dict)\n",
    "\n",
    "\n",
    "len(pages_and_chunks)"
   ]
  },
  {
   "cell_type": "code",
   "execution_count": 32,
   "metadata": {},
   "outputs": [
    {
     "data": {
      "text/plain": [
       "[{'page_number': 1028,\n",
       "  'sentence_chunk': 'The Pros and Cons of Food Additives The FDA works to protect the public from potentially dangerous additives. Passed in 1958, the Food Additives Amendment states that a manufacturer is responsible for demonstrating the safety of an additive before it can be approved. The Delaney Clause that was added to this legislation prohibits the approval of any additive found to cause cancer in animals or humans. However, most additives are considered to be “generally recognized as safe,” a status that is determined by the FDA and referred to as GRAS. Food additives are typically included in the processing stage to improve the quality and consistency of a product. Many additives also make items more “shelf stable,” meaning they will last a lot longer on store shelves and can generate more profit for store owners. Additives can also help to prevent spoilage that results from changes in temperature, damage during distribution, and other adverse conditions. In addition, food additives can protect consumers from exposure to rancid products and foodborne illnesses. Food additives aren’t always beneficial, however. Some substances have been associated with certain diseases if consumed in large amounts.',\n",
       "  'chunk_char_count': 1203,\n",
       "  'chunk_word_count': 188,\n",
       "  'chunk_token_count': 300.75}]"
      ]
     },
     "execution_count": 32,
     "metadata": {},
     "output_type": "execute_result"
    }
   ],
   "source": [
    "random.sample(pages_and_chunks, k=1)"
   ]
  },
  {
   "cell_type": "code",
   "execution_count": 33,
   "metadata": {},
   "outputs": [
    {
     "data": {
      "text/html": [
       "<div>\n",
       "<style scoped>\n",
       "    .dataframe tbody tr th:only-of-type {\n",
       "        vertical-align: middle;\n",
       "    }\n",
       "\n",
       "    .dataframe tbody tr th {\n",
       "        vertical-align: top;\n",
       "    }\n",
       "\n",
       "    .dataframe thead th {\n",
       "        text-align: right;\n",
       "    }\n",
       "</style>\n",
       "<table border=\"1\" class=\"dataframe\">\n",
       "  <thead>\n",
       "    <tr style=\"text-align: right;\">\n",
       "      <th></th>\n",
       "      <th>page_number</th>\n",
       "      <th>chunk_char_count</th>\n",
       "      <th>chunk_word_count</th>\n",
       "      <th>chunk_token_count</th>\n",
       "    </tr>\n",
       "  </thead>\n",
       "  <tbody>\n",
       "    <tr>\n",
       "      <th>count</th>\n",
       "      <td>1843.00</td>\n",
       "      <td>1843.00</td>\n",
       "      <td>1843.00</td>\n",
       "      <td>1843.00</td>\n",
       "    </tr>\n",
       "    <tr>\n",
       "      <th>mean</th>\n",
       "      <td>583.38</td>\n",
       "      <td>734.10</td>\n",
       "      <td>112.74</td>\n",
       "      <td>183.52</td>\n",
       "    </tr>\n",
       "    <tr>\n",
       "      <th>std</th>\n",
       "      <td>347.79</td>\n",
       "      <td>447.51</td>\n",
       "      <td>71.24</td>\n",
       "      <td>111.88</td>\n",
       "    </tr>\n",
       "    <tr>\n",
       "      <th>min</th>\n",
       "      <td>-41.00</td>\n",
       "      <td>12.00</td>\n",
       "      <td>3.00</td>\n",
       "      <td>3.00</td>\n",
       "    </tr>\n",
       "    <tr>\n",
       "      <th>25%</th>\n",
       "      <td>280.50</td>\n",
       "      <td>315.00</td>\n",
       "      <td>45.00</td>\n",
       "      <td>78.75</td>\n",
       "    </tr>\n",
       "    <tr>\n",
       "      <th>50%</th>\n",
       "      <td>586.00</td>\n",
       "      <td>745.00</td>\n",
       "      <td>115.00</td>\n",
       "      <td>186.25</td>\n",
       "    </tr>\n",
       "    <tr>\n",
       "      <th>75%</th>\n",
       "      <td>890.00</td>\n",
       "      <td>1118.00</td>\n",
       "      <td>173.00</td>\n",
       "      <td>279.50</td>\n",
       "    </tr>\n",
       "    <tr>\n",
       "      <th>max</th>\n",
       "      <td>1166.00</td>\n",
       "      <td>1830.00</td>\n",
       "      <td>297.00</td>\n",
       "      <td>457.50</td>\n",
       "    </tr>\n",
       "  </tbody>\n",
       "</table>\n",
       "</div>"
      ],
      "text/plain": [
       "       page_number  chunk_char_count  chunk_word_count  chunk_token_count\n",
       "count      1843.00           1843.00           1843.00            1843.00\n",
       "mean        583.38            734.10            112.74             183.52\n",
       "std         347.79            447.51             71.24             111.88\n",
       "min         -41.00             12.00              3.00               3.00\n",
       "25%         280.50            315.00             45.00              78.75\n",
       "50%         586.00            745.00            115.00             186.25\n",
       "75%         890.00           1118.00            173.00             279.50\n",
       "max        1166.00           1830.00            297.00             457.50"
      ]
     },
     "execution_count": 33,
     "metadata": {},
     "output_type": "execute_result"
    }
   ],
   "source": [
    "df = pd.DataFrame(pages_and_chunks)\n",
    "df.describe().round(2)"
   ]
  },
  {
   "cell_type": "code",
   "execution_count": 38,
   "metadata": {},
   "outputs": [
    {
     "data": {
      "text/plain": [
       "[{'page_number': -39,\n",
       "  'sentence_chunk': 'Human Nutrition: 2020 Edition UNIVERSITY OF HAWAI‘I AT MĀNOA FOOD SCIENCE AND HUMAN NUTRITION PROGRAM ALAN TITCHENAL, SKYLAR HARA, NOEMI ARCEO CAACBAY, WILLIAM MEINKE-LAU, YA-YUN YANG, MARIE KAINOA FIALKOWSKI REVILLA, JENNIFER DRAPER, GEMADY LANGFELDER, CHERYL GIBBY, CHYNA NICOLE CHUN, AND ALLISON CALABRESE',\n",
       "  'chunk_char_count': 308,\n",
       "  'chunk_word_count': 42,\n",
       "  'chunk_token_count': 77.0},\n",
       " {'page_number': -38,\n",
       "  'sentence_chunk': 'Human Nutrition: 2020 Edition by University of Hawai‘i at Mānoa Food Science and Human Nutrition Program is licensed under a Creative Commons Attribution 4.0 International License, except where otherwise noted.',\n",
       "  'chunk_char_count': 210,\n",
       "  'chunk_word_count': 30,\n",
       "  'chunk_token_count': 52.5}]"
      ]
     },
     "execution_count": 38,
     "metadata": {},
     "output_type": "execute_result"
    }
   ],
   "source": [
    "# Filter chunks with very small text length. These chunks might not have useful information.\n",
    "min_token_length = 30\n",
    "\n",
    "# for row in df[df['chunk_token_count']<min_token_length].sample(5).iterrows():\n",
    "#     print(f'Chunk token count : {row[1]['chunk_token_count']} | Text : {row[1]['sentence_chunk']}')\n",
    "\n",
    "pages_and_chunks_over_min_token_len = df[df['chunk_token_count'] > min_token_length].to_dict(orient='records')\n",
    "pages_and_chunks_over_min_token_len[:2]"
   ]
  },
  {
   "cell_type": "code",
   "execution_count": 39,
   "metadata": {},
   "outputs": [
    {
     "data": {
      "text/plain": [
       "[{'page_number': 939,\n",
       "  'sentence_chunk': 'https://www.acsm.org/docs/brochures/resistance- training.pdf. Accessed March 11, 2018. 4. Fitness Training: Elements of a Well-Rounded Routine. MayoClinic.com.http://www.mayoclinic.com/health/ fitness-training/HQ01305. Updated August 10, 2017. The Essential Elements of Physical Fitness | 939',\n",
       "  'chunk_char_count': 292,\n",
       "  'chunk_word_count': 28,\n",
       "  'chunk_token_count': 73.0},\n",
       " {'page_number': 85,\n",
       "  'sentence_chunk': 'Albumin helps maintain fluid balance between blood and tissues, as well as helping to maintain a constant blood pH. We have also learned that the water component of blood is essential for its actions as a transport vehicle, and that the electrolytes carried in blood help to maintain fluid balance and a constant pH. Furthermore, the high water content of blood helps maintain body temperature, and the constant flow of blood distributes heat throughout the body. Blood is exceptionally good at temperature The Cardiovascular System | 85',\n",
       "  'chunk_char_count': 537,\n",
       "  'chunk_word_count': 87,\n",
       "  'chunk_token_count': 134.25}]"
      ]
     },
     "execution_count": 39,
     "metadata": {},
     "output_type": "execute_result"
    }
   ],
   "source": [
    "random.sample(pages_and_chunks_over_min_token_len, k=2)"
   ]
  },
  {
   "cell_type": "markdown",
   "metadata": {},
   "source": [
    "## Embedding our text chunks"
   ]
  },
  {
   "cell_type": "code",
   "execution_count": 69,
   "metadata": {},
   "outputs": [
    {
     "name": "stdout",
     "output_type": "stream",
     "text": [
      "cuda:2\n"
     ]
    },
    {
     "name": "stderr",
     "output_type": "stream",
     "text": [
      "/home/asus/anaconda3/envs/azmat/lib/python3.12/site-packages/huggingface_hub/file_download.py:797: FutureWarning: `resume_download` is deprecated and will be removed in version 1.0.0. Downloads always resume when possible. If you want to force a new download, use `force_download=True`.\n",
      "  warnings.warn(\n"
     ]
    },
    {
     "data": {
      "text/plain": [
       "tensor([[ 0.0674,  0.0902, -0.0051,  ..., -0.0221, -0.0232,  0.0126],\n",
       "        [ 0.0552,  0.0592, -0.0166,  ..., -0.0120, -0.0103,  0.0227],\n",
       "        [ 0.0280,  0.0340, -0.0206,  ..., -0.0054,  0.0213,  0.0313],\n",
       "        ...,\n",
       "        [ 0.0771,  0.0098, -0.0122,  ..., -0.0409, -0.0752, -0.0241],\n",
       "        [ 0.1030, -0.0165,  0.0083,  ..., -0.0574, -0.0283, -0.0295],\n",
       "        [ 0.0864, -0.0125, -0.0113,  ..., -0.0522, -0.0337, -0.0299]],\n",
       "       device='cuda:2')"
      ]
     },
     "execution_count": 69,
     "metadata": {},
     "output_type": "execute_result"
    }
   ],
   "source": [
    "# we are using an embedding model from sentence transformer library.\n",
    "\n",
    "import torch\n",
    "from sentence_transformers import SentenceTransformer\n",
    "\n",
    "device = torch.device('cuda:2' if torch.cuda.is_available() else 'cpu')\n",
    "print(device)\n",
    "embedding_model = SentenceTransformer(model_name_or_path = 'all-mpnet-base-v2', device=device)\n",
    "\n",
    "# for item in tqdm(pages_and_chunks_over_min_token_len):\n",
    "#     # sentences are encoded by calling .encode on the model\n",
    "#     item['embeddings'] = embedding_model.encode(item['sentence_chunk'])\n",
    "\n",
    "text_chunks = [item['sentence_chunk'] for item in pages_and_chunks_over_min_token_len]\n",
    "# text_chunks[419]\n",
    "\n",
    "text_chunk_embeddings = embedding_model.encode(\n",
    "    text_chunks,\n",
    "    batch_size = 32,\n",
    "    convert_to_tensor=True\n",
    ")\n",
    "\n",
    "text_chunk_embeddings\n",
    "\n"
   ]
  },
  {
   "cell_type": "code",
   "execution_count": 70,
   "metadata": {},
   "outputs": [],
   "source": [
    "# Implementing FAISS Vector store\n",
    "\n",
    "import numpy as np\n",
    "import faiss\n",
    "\n",
    "\n",
    "# Convert the tensor from GPU to CPU and detach it from the graph\n",
    "# Then convert to a numpy array of type float32\n",
    "text_chunk_embeddings = np.array(text_chunk_embeddings.cpu(), dtype=np.float32)\n",
    "\n",
    "d = 768\n",
    "# setting up the vector store:\n",
    "index = faiss.IndexFlatL2(d)\n",
    "index.add(text_chunk_embeddings)"
   ]
  },
  {
   "cell_type": "code",
   "execution_count": null,
   "metadata": {},
   "outputs": [
    {
     "name": "stdout",
     "output_type": "stream",
     "text": [
      "[[ 605  589  558    9]\n",
      " [ 613  113 1626  785]\n",
      " [1011  895   81  776]\n",
      " [ 123  122 1161 1092]\n",
      " [1600 1223 1444 1296]\n",
      " [ 330 1049  337  333]\n",
      " [1088  738 1081  745]\n",
      " [ 412 1053 1112  355]\n",
      " [ 288  739   74 1505]\n",
      " [1148 1170 1094 1168]]\n",
      "[[245.42792 245.47127 245.88495 245.93845]\n",
      " [248.34288 248.54364 248.57002 248.5737 ]\n",
      " [267.95093 268.01514 268.10217 268.1548 ]\n",
      " [259.2244  259.28052 259.3379  259.382  ]\n",
      " [257.7188  257.83063 257.96027 258.00818]\n",
      " [249.28033 249.44339 249.5235  249.6034 ]\n",
      " [258.6822  258.7377  258.74884 258.8122 ]\n",
      " [273.278   273.3703  273.51318 273.52405]\n",
      " [251.01639 251.08907 251.09534 251.1025 ]\n",
      " [252.02844 252.2282  252.36292 252.41183]]\n"
     ]
    }
   ],
   "source": [
    "xq = np.random.random((10, d)).astype('float32') # create random query\n",
    "\n",
    "k=4 #nearest 4 neighbours\n",
    "\n",
    "D,I = index.search(xq, k) #return distances and indices for each query\n",
    "print(I)\n",
    "print(D)"
   ]
  },
  {
   "cell_type": "markdown",
   "metadata": {},
   "source": [
    "## Search and Retreive "
   ]
  },
  {
   "cell_type": "code",
   "execution_count": 78,
   "metadata": {},
   "outputs": [
    {
     "name": "stderr",
     "output_type": "stream",
     "text": [
      "/home/asus/anaconda3/envs/azmat/lib/python3.12/site-packages/huggingface_hub/file_download.py:797: FutureWarning: `resume_download` is deprecated and will be removed in version 1.0.0. Downloads always resume when possible. If you want to force a new download, use `force_download=True`.\n",
      "  warnings.warn(\n"
     ]
    }
   ],
   "source": [
    "# Implement a re-rank model\n",
    "\n",
    "from sentence_transformers import CrossEncoder\n",
    "\n",
    "reranking_model = CrossEncoder('mixedbread-ai/mxbai-rerank-large-v1')\n"
   ]
  },
  {
   "cell_type": "code",
   "execution_count": 74,
   "metadata": {},
   "outputs": [
    {
     "name": "stdout",
     "output_type": "stream",
     "text": [
      "I : [[42 47 41 51]]\n",
      "D : [[0.61483824 0.6523455  0.67074776 0.69273096]]\n",
      "Distance : 0.6148382425308228\n",
      "Text : Macronutrients Nutrients that are needed in large amounts are called macronutrients. There are three classes of macronutrients: carbohydrates, lipids, and proteins. These can be metabolically processed into cellular energy. The energy from macronutrients comes from their chemical bonds. This chemical energy is converted into cellular energy that is then utilized to perform work, allowing our bodies to conduct their basic functions. A unit of measurement of food energy is the calorie. On nutrition food labels the amount given for “calories” is actually equivalent to each calorie multiplied by one thousand. A kilocalorie (one thousand calories, denoted with a small “c”) is synonymous with the “Calorie” (with a capital “C”) on nutrition food labels. Water is also a macronutrient in the sense that you require a large amount of it, but unlike the other macronutrients, it does not yield calories. Carbohydrates Carbohydrates are molecules composed of carbon, hydrogen, and oxygen.\n",
      "Page number : 5\n",
      "Distance : 0.6523454785346985\n",
      "Text : Water There is one other nutrient that we must have in large quantities: water. Water does not contain carbon, but is composed of two hydrogens and one oxygen per molecule of water. More than 60 percent of your total body weight is water. Without it, nothing could be transported in or out of the body, chemical reactions would not occur, organs would not be cushioned, and body temperature would fluctuate widely. On average, an adult consumes just over two liters of water per day from food and drink combined. Since water is so critical for life’s basic processes, the amount of water input and output is supremely important, a topic we will explore in detail in Chapter 4. Micronutrients Micronutrients are nutrients required by the body in lesser amounts, but are still essential for carrying out bodily functions. Micronutrients include all the essential minerals and vitamins. There are sixteen essential minerals and thirteen vitamins (See Table 1.1 “Minerals and Their Major Functions” and Table 1.2 “Vitamins and Their Major Functions” for a complete list and their major functions). In contrast to carbohydrates, lipids, and proteins, micronutrients are not sources of energy (calories), but they assist in the process as cofactors or components of enzymes (i.e., coenzymes).\n",
      "Page number : 8\n",
      "Distance : 0.6707477569580078\n",
      "Text : Learning Objectives By the end of this chapter, you will be able to: • Describe basic concepts in nutrition • Describe factors that affect your nutritional needs • Describe the importance of research and scientific methods to understanding nutrition What are Nutrients? The foods we eat contain nutrients. Nutrients are substances required by the body to perform its basic functions. Nutrients must be obtained from our diet, since the human body does not synthesize or produce them. Nutrients have one or more of three basic functions: they provide energy, contribute to body structure, and/or regulate chemical processes in the body. These basic functions allow us to detect and respond to environmental surroundings, move, excrete wastes, respire (breathe), grow, and reproduce. There are six classes of nutrients required for the body to function and maintain overall health. These are carbohydrates, lipids, proteins, water, vitamins, and minerals. Foods also contain non-nutrients that may be harmful (such as natural toxins common in plant foods and additives like some dyes and preservatives) or beneficial (such as antioxidants). 4 | Introduction\n",
      "Page number : 4\n",
      "Distance : 0.6927309632301331\n",
      "Text : Vitamins Major Functions Water-soluble Thiamin (B1) Coenzyme, energy metabolism assistance Riboflavin (B2 ) Coenzyme, energy metabolism assistance Niacin (B3) Coenzyme, energy metabolism assistance Pantothenic acid (B5) Coenzyme, energy metabolism assistance Pyridoxine (B6) Coenzyme, amino acid synthesis assistance Biotin (B7) Coenzyme, amino acid and fatty acid metabolism Folate (B9) Coenzyme, essential for growth Cobalamin (B12) Coenzyme, red blood cell synthesis C (ascorbic acid) Collagen synthesis, antioxidant Fat-soluble A Vision, reproduction, immune system function D Bone and teeth health maintenance, immune system function E Antioxidant, cell membrane protection K Bone and teeth health maintenance, blood clotting Vitamin deficiencies can cause severe health problems and even death. For example, a deficiency in niacin causes a disease called pellagra, which was common in the early twentieth century in some parts of America. The common signs and symptoms of pellagra are known as the “4D’s—diarrhea, dermatitis, dementia, and death.” Until scientists found out that better diets relieved the signs and symptoms of pellagra, many people with the disease ended up hospitalized in insane asylums awaiting death. Other vitamins were also found to prevent certain disorders and diseases such as scurvy (vitamin C), night blindness vitamin A, and rickets (vitamin D). Table 1.3 Functions of Nutrients Introduction | 11\n",
      "Page number : 11\n"
     ]
    }
   ],
   "source": [
    "# convert query to embeddings using the same embedding model used to embed the data documents.\n",
    "\n",
    "query = 'macronutrients functions'\n",
    "\n",
    "# embed the query\n",
    "query_embed = embedding_model.encode(query, convert_to_tensor=True)\n",
    "query_embed = query_embed.cpu().reshape(1,-1)\n",
    "\n",
    "D,I = index.search(query_embed, k)\n",
    "\n",
    "\n",
    "print(f'I : {I}')\n",
    "print(f'D : {D}')\n",
    "\n",
    "for dist, idx in zip(D[0], I[0]):\n",
    "    print(f'Distance : {dist}')\n",
    "    print(f'Text : {pages_and_chunks_over_min_token_len[idx]['sentence_chunk']}')\n",
    "    print(f'Page number : {pages_and_chunks_over_min_token_len[idx]['page_number']}')"
   ]
  },
  {
   "cell_type": "markdown",
   "metadata": {},
   "source": [
    "#### We could potentially improve the results by using a re-ranking model. The model is trained specifically to re-rank the search results and rank them in the order most likely."
   ]
  },
  {
   "cell_type": "code",
   "execution_count": 79,
   "metadata": {},
   "outputs": [
    {
     "data": {
      "text/plain": [
       "[{'corpus_id': 0,\n",
       "  'score': 0.97560567,\n",
       "  'text': 'Macronutrients Nutrients that are needed in large amounts are called macronutrients. There are three classes of macronutrients: carbohydrates, lipids, and proteins. These can be metabolically processed into cellular energy. The energy from macronutrients comes from their chemical bonds. This chemical energy is converted into cellular energy that is then utilized to perform work, allowing our bodies to conduct their basic functions. A unit of measurement of food energy is the calorie. On nutrition food labels the amount given for “calories” is actually equivalent to each calorie multiplied by one thousand. A kilocalorie (one thousand calories, denoted with a small “c”) is synonymous with the “Calorie” (with a capital “C”) on nutrition food labels. Water is also a macronutrient in the sense that you require a large amount of it, but unlike the other macronutrients, it does not yield calories. Carbohydrates Carbohydrates are molecules composed of carbon, hydrogen, and oxygen.'},\n",
       " {'corpus_id': 3,\n",
       "  'score': 0.9239477,\n",
       "  'text': 'Vitamins Major Functions Water-soluble Thiamin (B1) Coenzyme, energy metabolism assistance Riboflavin (B2 ) Coenzyme, energy metabolism assistance Niacin (B3) Coenzyme, energy metabolism assistance Pantothenic acid (B5) Coenzyme, energy metabolism assistance Pyridoxine (B6) Coenzyme, amino acid synthesis assistance Biotin (B7) Coenzyme, amino acid and fatty acid metabolism Folate (B9) Coenzyme, essential for growth Cobalamin (B12) Coenzyme, red blood cell synthesis C (ascorbic acid) Collagen synthesis, antioxidant Fat-soluble A Vision, reproduction, immune system function D Bone and teeth health maintenance, immune system function E Antioxidant, cell membrane protection K Bone and teeth health maintenance, blood clotting Vitamin deficiencies can cause severe health problems and even death. For example, a deficiency in niacin causes a disease called pellagra, which was common in the early twentieth century in some parts of America. The common signs and symptoms of pellagra are known as the “4D’s—diarrhea, dermatitis, dementia, and death.” Until scientists found out that better diets relieved the signs and symptoms of pellagra, many people with the disease ended up hospitalized in insane asylums awaiting death. Other vitamins were also found to prevent certain disorders and diseases such as scurvy (vitamin C), night blindness vitamin A, and rickets (vitamin D). Table 1.3 Functions of Nutrients Introduction | 11'},\n",
       " {'corpus_id': 2,\n",
       "  'score': 0.7003059,\n",
       "  'text': 'Learning Objectives By the end of this chapter, you will be able to: • Describe basic concepts in nutrition • Describe factors that affect your nutritional needs • Describe the importance of research and scientific methods to understanding nutrition What are Nutrients? The foods we eat contain nutrients. Nutrients are substances required by the body to perform its basic functions. Nutrients must be obtained from our diet, since the human body does not synthesize or produce them. Nutrients have one or more of three basic functions: they provide energy, contribute to body structure, and/or regulate chemical processes in the body. These basic functions allow us to detect and respond to environmental surroundings, move, excrete wastes, respire (breathe), grow, and reproduce. There are six classes of nutrients required for the body to function and maintain overall health. These are carbohydrates, lipids, proteins, water, vitamins, and minerals. Foods also contain non-nutrients that may be harmful (such as natural toxins common in plant foods and additives like some dyes and preservatives) or beneficial (such as antioxidants). 4 | Introduction'}]"
      ]
     },
     "execution_count": 79,
     "metadata": {},
     "output_type": "execute_result"
    }
   ],
   "source": [
    "retreived_docs = [pages_and_chunks_over_min_token_len[idx]['sentence_chunk'] for idx in I[0]]\n",
    "\n",
    "results = reranking_model.rank(query, retreived_docs, return_documents=True, top_k=3)\n",
    "results"
   ]
  },
  {
   "cell_type": "code",
   "execution_count": null,
   "metadata": {},
   "outputs": [],
   "source": [
    "def retrieve_relevant_resources(query, embeddings, model, num_res_to_return):\n",
    "    '''\n",
    "    Embeds a query with the used model and returns top k scores and indices from vector store.\n",
    "    '''\n",
    "\n",
    "    # embed the query\n",
    "    query_embed = model.encode(query, convert_to_tensor=True)\n",
    "    D,I = index.search(query_embed, num_res_to_return+5)\n",
    "    retreived_docs = [pages_and_chunks_over_min_token_len[idx]['sentence_chunk'] for idx in I[0]]\n",
    "    \n",
    "    return reranking_model.rank(query, retreived_docs, return_documents=True, top_k=3)"
   ]
  }
 ],
 "metadata": {
  "kernelspec": {
   "display_name": "azmat",
   "language": "python",
   "name": "python3"
  },
  "language_info": {
   "codemirror_mode": {
    "name": "ipython",
    "version": 3
   },
   "file_extension": ".py",
   "mimetype": "text/x-python",
   "name": "python",
   "nbconvert_exporter": "python",
   "pygments_lexer": "ipython3",
   "version": "3.12.2"
  }
 },
 "nbformat": 4,
 "nbformat_minor": 2
}
